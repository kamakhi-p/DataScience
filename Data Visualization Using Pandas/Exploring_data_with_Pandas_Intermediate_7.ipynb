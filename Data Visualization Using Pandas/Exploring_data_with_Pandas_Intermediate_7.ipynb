{
 "cells": [
  {
   "cell_type": "markdown",
   "metadata": {},
   "source": [
    "# Challenge"
   ]
  },
  {
   "cell_type": "markdown",
   "metadata": {},
   "source": [
    "Now it's time for a challenge to bring everything together!\n",
    "\n",
    "\n",
    "In this challenge we're going to add a new column to our dataframe, and then perform some aggregation using that new column.\n",
    "\n",
    "\n",
    "\n",
    ">The column we create is going to contain a metric called return on assets (ROA). \n",
    "\n",
    "\n",
    ">ROA is a business-specific metric which indicates a companies ability to make profit using their available assets.\n",
    "\n",
    ">**return_on_assets = profit / assets**\n",
    "\n"
   ]
  },
  {
   "cell_type": "markdown",
   "metadata": {},
   "source": [
    "Once we've created the new column, we'll aggregate by sector, and find the company with the highest ROA from each sector. "
   ]
  },
  {
   "cell_type": "markdown",
   "metadata": {},
   "source": [
    "1) Create a new column roa in the f500 dataframe, containing the return on assets metric for each company.\n",
    "\n",
    "\n",
    "2) Aggregate the data by the sector column, and create a dictionary top_roa_by_sector, with:\n",
    "            - Dictionary keys with the sector name.\n",
    "            \n",
    "            - Dictionary values with the company name with the highest ROA value from that sector."
   ]
  },
  {
   "cell_type": "code",
   "execution_count": 38,
   "metadata": {},
   "outputs": [
    {
     "name": "stdout",
     "output_type": "stream",
     "text": [
      "<class 'pandas.core.frame.DataFrame'>\n",
      "RangeIndex: 500 entries, 0 to 499\n",
      "Data columns (total 17 columns):\n",
      " #   Column                    Non-Null Count  Dtype  \n",
      "---  ------                    --------------  -----  \n",
      " 0   company                   500 non-null    object \n",
      " 1   rank                      500 non-null    int64  \n",
      " 2   revenues                  500 non-null    int64  \n",
      " 3   revenue_change            498 non-null    float64\n",
      " 4   profits                   499 non-null    float64\n",
      " 5   assets                    500 non-null    int64  \n",
      " 6   profit_change             436 non-null    float64\n",
      " 7   ceo                       500 non-null    object \n",
      " 8   industry                  500 non-null    object \n",
      " 9   sector                    500 non-null    object \n",
      " 10  previous_rank             500 non-null    int64  \n",
      " 11  country                   500 non-null    object \n",
      " 12  hq_location               500 non-null    object \n",
      " 13  website                   500 non-null    object \n",
      " 14  years_on_global_500_list  500 non-null    int64  \n",
      " 15  employees                 500 non-null    int64  \n",
      " 16  total_stockholder_equity  500 non-null    int64  \n",
      "dtypes: float64(3), int64(7), object(7)\n",
      "memory usage: 66.5+ KB\n",
      "None\n",
      "<class 'pandas.core.frame.DataFrame'>\n",
      "RangeIndex: 500 entries, 0 to 499\n",
      "Data columns (total 18 columns):\n",
      " #   Column                    Non-Null Count  Dtype  \n",
      "---  ------                    --------------  -----  \n",
      " 0   company                   500 non-null    object \n",
      " 1   rank                      500 non-null    int64  \n",
      " 2   revenues                  500 non-null    int64  \n",
      " 3   revenue_change            498 non-null    float64\n",
      " 4   profits                   499 non-null    float64\n",
      " 5   assets                    500 non-null    int64  \n",
      " 6   profit_change             436 non-null    float64\n",
      " 7   ceo                       500 non-null    object \n",
      " 8   industry                  500 non-null    object \n",
      " 9   sector                    500 non-null    object \n",
      " 10  previous_rank             500 non-null    int64  \n",
      " 11  country                   500 non-null    object \n",
      " 12  hq_location               500 non-null    object \n",
      " 13  website                   500 non-null    object \n",
      " 14  years_on_global_500_list  500 non-null    int64  \n",
      " 15  employees                 500 non-null    int64  \n",
      " 16  total_stockholder_equity  500 non-null    int64  \n",
      " 17  roa                       499 non-null    float64\n",
      "dtypes: float64(4), int64(7), object(7)\n",
      "memory usage: 70.4+ KB\n",
      "None\n",
      "{'Retailing': 'H & M Hennes & Mauritz', 'Energy': 'National Grid', 'Motor Vehicles & Parts': 'Subaru', 'Financials': 'Berkshire Hathaway', 'Technology': 'Accenture', 'Wholesalers': 'McKesson', 'Health Care': 'Gilead Sciences', 'Telecommunications': 'KDDI', 'Engineering & Construction': 'Pacific Construction Group', 'Industrials': '3M', 'Food & Drug Stores': 'Publix Super Markets', 'Aerospace & Defense': 'Lockheed Martin', 'Food, Beverages & Tobacco': 'Philip Morris International', 'Household Products': 'Unilever', 'Transportation': 'Delta Air Lines', 'Materials': 'CRH', 'Chemicals': 'LyondellBasell Industries', 'Media': 'Disney', 'Apparel': 'Nike', 'Hotels, Restaurants & Leisure': 'McDonald’s', 'Business Services': 'Adecco Group'}\n"
     ]
    }
   ],
   "source": [
    "#Importing the dataset\n",
    "import pandas as pd\n",
    "f500 = pd.read_csv(\"f500.csv\")\n",
    "f500.index.name = None\n",
    "\n",
    "print(f500.info())\n",
    "top_roa_by_sector = {}\n",
    "\n",
    "# Creating a new column in the f500 dataframe\n",
    "f500[\"roa\"] = f500[\"profits\"] / f500[\"assets\"]\n",
    "print(f500.info())\n",
    "#print(\"\\n\")\n",
    "#Aggregating the data\n",
    "\n",
    "#Finding Unique sectors\n",
    "unique_sectors = f500[\"sector\"].unique()\n",
    "#print(unique_sectors)\n",
    "\n",
    "for c in unique_sectors:\n",
    "    sectors = f500[f500[\"sector\"] == c]\n",
    "    sorted_sectors_RoA = sectors.sort_values(\"roa\", ascending = False)\n",
    "    top_sector_RoA = sorted_sectors_RoA.iloc[0]\n",
    "    top_sector_RoA_comp_name = top_sector_RoA[\"company\"]\n",
    "    \n",
    "    top_roa_by_sector[c] = top_sector_RoA_comp_name\n",
    "    \n",
    "#print(sorted_sectors_RoA.head(3))\n",
    "#print(\"\\n============\")\n",
    "#print(top_sector_RoA)\n",
    "    \n",
    "print(top_roa_by_sector)\n",
    "    \n",
    "    "
   ]
  },
  {
   "cell_type": "markdown",
   "metadata": {},
   "source": [
    "In this mission, we learned how to:\n",
    "\n",
    "- Select columns, rows and individual items using their integer location.\n",
    "\n",
    "- Use pd.read_csv() to read CSV files in pandas.\n",
    "\n",
    "- Work with integer axis labels.\n",
    "\n",
    "- How to use pandas methods to produce boolean arrays.\n",
    "\n",
    "- Use boolean operators to combine boolean comparisons to perform more complex analysis.\n",
    "\n",
    "- Use index labels to align data.\n",
    "\n",
    "- Use aggregation to perform advanced analysis using loops.\n",
    "\n",
    "\n",
    "\n",
    "- In the next mission, we'll learn techniques to use when performing data cleaning to prepare a messy data set."
   ]
  },
  {
   "cell_type": "code",
   "execution_count": null,
   "metadata": {},
   "outputs": [],
   "source": []
  }
 ],
 "metadata": {
  "kernelspec": {
   "display_name": "Python 3",
   "language": "python",
   "name": "python3"
  },
  "language_info": {
   "codemirror_mode": {
    "name": "ipython",
    "version": 3
   },
   "file_extension": ".py",
   "mimetype": "text/x-python",
   "name": "python",
   "nbconvert_exporter": "python",
   "pygments_lexer": "ipython3",
   "version": "3.7.6"
  }
 },
 "nbformat": 4,
 "nbformat_minor": 4
}
