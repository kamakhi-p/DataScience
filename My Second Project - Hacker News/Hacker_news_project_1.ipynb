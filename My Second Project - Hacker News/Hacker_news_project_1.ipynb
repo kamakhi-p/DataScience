{
 "cells": [
  {
   "cell_type": "markdown",
   "metadata": {},
   "source": [
    "# Hacker News Project"
   ]
  },
  {
   "cell_type": "markdown",
   "metadata": {},
   "source": [
    "In this project, we'll work with a data set of submissions to popular technology site [Hacker News](https://news.ycombinator.com/)"
   ]
  },
  {
   "cell_type": "markdown",
   "metadata": {},
   "source": [
    "![image](hacker_news.jpg)"
   ]
  },
  {
   "cell_type": "markdown",
   "metadata": {},
   "source": [
    "> Hacker News is a site started by the startup incubator Y Combinator, where user-submitted stories (known as \"posts\") are voted and commented upon, similar to reddit. Hacker News is extremely popular in technology and startup circles, and posts that make it to the top of Hacker News' listings can get hundreds of thousands of visitors as a result.\n",
    "\n"
   ]
  },
  {
   "cell_type": "markdown",
   "metadata": {},
   "source": [
    "We can find the data set [here](https://www.kaggle.com/hacker-news/hacker-news-posts), but note that it has been reduced from almost 300,000 rows to approximately 20,000 rows by removing all submissions that did not receive any comments, and then randomly sampling from the remaining submissions. \n",
    "\n",
    "\n",
    "\n",
    "Below are descriptions of the columns:\n",
    "\n",
    "- id: The unique identifier from Hacker News for the post\n",
    "\n",
    "- title: The title of the post\n",
    "\n",
    "- url: The URL that the posts links to, if it the post has a URL\n",
    "\n",
    "- num_points: The number of points the post acquired, calculated as the total number of upvotes minus the total number of downvotes\n",
    "\n",
    "- num_comments: The number of comments that were made on the post\n",
    "\n",
    "- author: The username of the "
   ]
  },
  {
   "cell_type": "markdown",
   "metadata": {},
   "source": [
    "Here are the first few rows of the data set:\n",
    "\n",
    "*******\n",
    "\n",
    "| id       | title                                                        | url                                                                                            | num_points | num_comments | author     | created_at      |\n",
    "|----------|--------------------------------------------------------------|------------------------------------------------------------------------------------------------|------------|--------------|------------|-----------------|\n",
    "| 12224879 | Interactive Dynamic Video                                    | http://www.interactivedynamicvideo.com/                                                        | 386        | 52           | ne0phyte   | 8/4/2016 11:52  |\n",
    "| 10975351 | How to Use Open Source and Shut the F*ck Up at the Same Time | http://hueniverse.com/2016/01/26/how-to-use-open-source-and-shut-the-fuck-up-at-the-same-time/ | 39         | 10           | josep2     | 1/26/2016 19:30 |\n",
    "| 11964716 | Florida DJs May Face Felony for April Fools' Water Joke      | http://www.thewire.com/entertainment/2013/04/florida-djs-april-fools-water-joke/63798/         | 2          | 1            | vezycash   | 6/23/2016 22:20 |\n",
    "| 11919867 | Technology ventures: From Idea to Enterprise                 | https://www.amazon.com/Technology-Ventures-Enterprise-Thomas-Byers/dp/0073523429               | 3          | 1            | hswarna    | 6/17/2016 0:01  |\n",
    "| 10301696 | Note by Note: The Making of Steinway L1037 (2007)            | http://www.nytimes.com/2007/11/07/movies/07stein.html?_r=0                                     | 8          | 2            | walterbell | 9/30/2015 4:12  |"
   ]
  },
  {
   "cell_type": "markdown",
   "metadata": {},
   "source": [
    "We're specifically interested in posts whose titles begin with either -- **Ask HN** or **Show HN**. \n",
    "\n",
    "* Users submit Ask HN posts to ask the Hacker News community a specific question. \n",
    "\n",
    "Below are a couple examples:\n",
    "\n",
    "- Ask HN: How to improve my personal website?\n",
    "- Ask HN: Am I the only one outraged by Twitter shutting down share counts?\n",
    "- Ask HN: Aby recent changes to CSS that broke mobile?"
   ]
  },
  {
   "cell_type": "markdown",
   "metadata": {},
   "source": [
    "Likewise, users submit Show HN posts to show the Hacker News community a project, product, or just generally something interesting. \n",
    "\n",
    "\n",
    "Below are a couple of examples:\n",
    "\n",
    "- Show HN: Wio Link  ESP8266 Based Web of Things Hardware Development Platform'\n",
    "- Show HN: Something pointless I made\n",
    "- Show HN: Shanhu.io, a programming playground powered by e8vm"
   ]
  },
  {
   "cell_type": "markdown",
   "metadata": {},
   "source": [
    ">We'll compare these two types of posts to determine the following:\n",
    "\n",
    ">* Do Ask HN or Show HN receive more comments on average?\n",
    "\n",
    ">* Do posts created at a certain time receive more comments on average?"
   ]
  },
  {
   "cell_type": "markdown",
   "metadata": {},
   "source": [
    "**PLEASE REFER NEXT SET of NOTEBOOKS FOR CODE**"
   ]
  },
  {
   "cell_type": "code",
   "execution_count": null,
   "metadata": {},
   "outputs": [],
   "source": []
  }
 ],
 "metadata": {
  "kernelspec": {
   "display_name": "Python 3",
   "language": "python",
   "name": "python3"
  },
  "language_info": {
   "codemirror_mode": {
    "name": "ipython",
    "version": 3
   },
   "file_extension": ".py",
   "mimetype": "text/x-python",
   "name": "python",
   "nbconvert_exporter": "python",
   "pygments_lexer": "ipython3",
   "version": "3.7.6"
  }
 },
 "nbformat": 4,
 "nbformat_minor": 4
}
