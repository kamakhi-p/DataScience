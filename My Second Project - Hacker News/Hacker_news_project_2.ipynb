{
 "cells": [
  {
   "cell_type": "markdown",
   "metadata": {},
   "source": [
    "# Hacker News Project"
   ]
  },
  {
   "cell_type": "markdown",
   "metadata": {},
   "source": [
    ">We'll compare these two types of posts to determine the following:\n",
    "\n",
    ">* Do Ask HN or Show HN receive more comments on average?\n",
    "\n",
    ">* Do posts created at a certain time receive more comments on average?"
   ]
  },
  {
   "cell_type": "markdown",
   "metadata": {},
   "source": [
    "### Reading the hacker_news.csv file & displaying first few rows"
   ]
  },
  {
   "cell_type": "code",
   "execution_count": 11,
   "metadata": {},
   "outputs": [
    {
     "name": "stdout",
     "output_type": "stream",
     "text": [
      "=========================================================================================\n",
      "\n",
      "\n",
      "['12224879', 'Interactive Dynamic Video', 'http://www.interactivedynamicvideo.com/', '386', '52', 'ne0phyte', '8/4/2016 11:52']\n",
      "\n",
      "\n",
      "['10975351', 'How to Use Open Source and Shut the Fuck Up at the Same Time', 'http://hueniverse.com/2016/01/26/how-to-use-open-source-and-shut-the-fuck-up-at-the-same-time/', '39', '10', 'josep2', '1/26/2016 19:30']\n",
      "\n",
      "\n",
      "['11964716', \"Florida DJs May Face Felony for April Fools' Water Joke\", 'http://www.thewire.com/entertainment/2013/04/florida-djs-april-fools-water-joke/63798/', '2', '1', 'vezycash', '6/23/2016 22:20']\n",
      "\n",
      "\n",
      "['11919867', 'Technology ventures: From Idea to Enterprise', 'https://www.amazon.com/Technology-Ventures-Enterprise-Thomas-Byers/dp/0073523429', '3', '1', 'hswarna', '6/17/2016 0:01']\n",
      "\n",
      "\n",
      "['10301696', 'Note by Note: The Making of Steinway L1037 (2007)', 'http://www.nytimes.com/2007/11/07/movies/07stein.html?_r=0', '8', '2', 'walterbell', '9/30/2015 4:12']\n",
      "\n",
      "\n",
      "['10482257', 'Title II kills investment? Comcast and other ISPs are now spending more', 'http://arstechnica.com/business/2015/10/comcast-and-other-isps-boost-network-investment-despite-net-neutrality/', '53', '22', 'Deinos', '10/31/2015 9:48']\n",
      "\n",
      "\n"
     ]
    }
   ],
   "source": [
    "from csv import reader\n",
    "\n",
    "import datetime as dt\n",
    "\n",
    "opened_file = open(\"hacker_news.csv\", encoding=\"utf8\")\n",
    "\n",
    "read_file = reader(opened_file)\n",
    "\n",
    "hn = list(read_file)\n",
    "\n",
    "#headers = hn[0]          ## This only strips out the header row from the dataset\n",
    "#print(headers)\n",
    "print(\"=========================================================================================\")\n",
    "print(\"\\n\")\n",
    "\n",
    "hn = hn[1:]                ## Now, here, we have all rows except the top header row\n",
    "\n",
    "for row in hn[:6]:\n",
    "    print(row)\n",
    "    print(\"\\n\")\n",
    "\n"
   ]
  },
  {
   "cell_type": "markdown",
   "metadata": {},
   "source": [
    "### Filtering data using string.startswith() method"
   ]
  },
  {
   "cell_type": "markdown",
   "metadata": {},
   "source": [
    "Since we're only concerned with post titles beginning with Ask HN or Show HN, we'll create new lists of lists containing just the data for those titles.\n",
    "\n",
    "To find the posts that begin with either Ask HN or Show HN, we'll use the string method **startswith**. \n",
    "\n",
    "Given a string object, say, string1, we can check if starts with, say, dq by inspecting the output of the object string1.startswith('dq').\n",
    "\n",
    "If string1 starts with dq, it will return True, otherwise it will return False."
   ]
  },
  {
   "cell_type": "markdown",
   "metadata": {},
   "source": [
    "> **For e.g.**\n",
    "\n",
    "> print('dataquest'.startswith('Data'))\n",
    "\n",
    ">print('dataquest'.startswith('data'))\n",
    "\n",
    ">Output:\n",
    ">False\n",
    "\n",
    ">True"
   ]
  },
  {
   "cell_type": "markdown",
   "metadata": {},
   "source": [
    ">If we wish to control for case, we can use the lower method which returns a lowercase version of the starting string.\n",
    "\n",
    ">Here's an example:\n",
    "\n",
    ">print('DataQuest'.lower())\n",
    "\n",
    "\n",
    ">Output: dataquest\n",
    "\n"
   ]
  },
  {
   "cell_type": "code",
   "execution_count": 30,
   "metadata": {},
   "outputs": [
    {
     "name": "stdout",
     "output_type": "stream",
     "text": [
      "No. of Ask Posts are: 1744\n",
      "\n",
      "No. of Show Posts are: 1162\n",
      "\n",
      "No. of Other Posts are: 17194\n",
      "\n"
     ]
    }
   ],
   "source": [
    "ask_posts = []\n",
    "\n",
    "show_posts = []\n",
    "\n",
    "other_posts = []\n",
    "\n",
    "for row in hn:\n",
    "    title = row[1]\n",
    "    \n",
    "    lowercase_title = title.lower()\n",
    "    #if lowercase version on title starts with 'ask hn' then append it to ask_posts  \n",
    "    if lowercase_title.startswith(\"ask hn\"):\n",
    "        ask_posts.append(row)\n",
    "    \n",
    "    #if lowercase version on title starts with 'show hn' then append it to show_posts  \n",
    "    elif lowercase_title.startswith(\"show hn\"):\n",
    "        show_posts.append(row)\n",
    "        \n",
    "    else:\n",
    "        other_posts.append(row)\n",
    "        \n",
    "print(\"No. of Ask Posts are: \" + str(len(ask_posts)) + \"\\n\")\n",
    "\n",
    "print(\"No. of Show Posts are: \" + str(len(show_posts))+ \"\\n\")\n",
    "\n",
    "print(\"No. of Other Posts are: \" + str(len(other_posts)) + \"\\n\")\n",
    "       \n",
    "        "
   ]
  },
  {
   "cell_type": "code",
   "execution_count": 44,
   "metadata": {},
   "outputs": [
    {
     "name": "stdout",
     "output_type": "stream",
     "text": [
      "First few rows of Ask Posts are as below:\n",
      "==============================================================================\n",
      "['12296411', 'Ask HN: How to improve my personal website?', '', '2', '6', 'ahmedbaracat', '8/16/2016 9:55']\n",
      "['10610020', 'Ask HN: Am I the only one outraged by Twitter shutting down share counts?', '', '28', '29', 'tkfx', '11/22/2015 13:43']\n",
      "['11610310', 'Ask HN: Aby recent changes to CSS that broke mobile?', '', '1', '1', 'polskibus', '5/2/2016 10:14']\n",
      "['12210105', 'Ask HN: Looking for Employee #3 How do I do it?', '', '1', '3', 'sph130', '8/2/2016 14:20']\n",
      "['10394168', 'Ask HN: Someone offered to buy my browser extension from me. What now?', '', '28', '17', 'roykolak', '10/15/2015 16:38']\n",
      "\n",
      "\n",
      "First few rows of Show Posts are as below:\n",
      "==============================================================================\n",
      "['10627194', 'Show HN: Wio Link  ESP8266 Based Web of Things Hardware Development Platform', 'https://iot.seeed.cc', '26', '22', 'kfihihc', '11/25/2015 14:03']\n",
      "['10646440', 'Show HN: Something pointless I made', 'http://dn.ht/picklecat/', '747', '102', 'dhotson', '11/29/2015 22:46']\n",
      "['11590768', 'Show HN: Shanhu.io, a programming playground powered by e8vm', 'https://shanhu.io', '1', '1', 'h8liu', '4/28/2016 18:05']\n",
      "['12178806', 'Show HN: Webscope  Easy way for web developers to communicate with Clients', 'http://webscopeapp.com', '3', '3', 'fastbrick', '7/28/2016 7:11']\n",
      "['10872799', 'Show HN: GeoScreenshot  Easily test Geo-IP based web pages', 'https://www.geoscreenshot.com/', '1', '9', 'kpsychwave', '1/9/2016 20:45']\n",
      "\n",
      "\n",
      "First few rows of Other Posts are as below:\n",
      "==============================================================================\n",
      "['12224879', 'Interactive Dynamic Video', 'http://www.interactivedynamicvideo.com/', '386', '52', 'ne0phyte', '8/4/2016 11:52']\n",
      "['10975351', 'How to Use Open Source and Shut the Fuck Up at the Same Time', 'http://hueniverse.com/2016/01/26/how-to-use-open-source-and-shut-the-fuck-up-at-the-same-time/', '39', '10', 'josep2', '1/26/2016 19:30']\n",
      "['11964716', \"Florida DJs May Face Felony for April Fools' Water Joke\", 'http://www.thewire.com/entertainment/2013/04/florida-djs-april-fools-water-joke/63798/', '2', '1', 'vezycash', '6/23/2016 22:20']\n",
      "['11919867', 'Technology ventures: From Idea to Enterprise', 'https://www.amazon.com/Technology-Ventures-Enterprise-Thomas-Byers/dp/0073523429', '3', '1', 'hswarna', '6/17/2016 0:01']\n",
      "['10301696', 'Note by Note: The Making of Steinway L1037 (2007)', 'http://www.nytimes.com/2007/11/07/movies/07stein.html?_r=0', '8', '2', 'walterbell', '9/30/2015 4:12']\n",
      "\n",
      "\n"
     ]
    }
   ],
   "source": [
    "print(\"First few rows of Ask Posts are as below:\")\n",
    "print(\"==============================================================================\")\n",
    "for row in ask_posts[:5]:\n",
    "    print(row)\n",
    "print(\"\\n\")\n",
    "\n",
    "print(\"First few rows of Show Posts are as below:\")\n",
    "print(\"==============================================================================\")\n",
    "for row in show_posts[:5]:\n",
    "    print(row)\n",
    "print(\"\\n\")\n",
    "\n",
    "print(\"First few rows of Other Posts are as below:\")\n",
    "print(\"==============================================================================\")\n",
    "for row in other_posts[:5]:\n",
    "    print(row)\n",
    "print(\"\\n\")"
   ]
  },
  {
   "cell_type": "code",
   "execution_count": null,
   "metadata": {},
   "outputs": [],
   "source": []
  }
 ],
 "metadata": {
  "kernelspec": {
   "display_name": "Python 3",
   "language": "python",
   "name": "python3"
  },
  "language_info": {
   "codemirror_mode": {
    "name": "ipython",
    "version": 3
   },
   "file_extension": ".py",
   "mimetype": "text/x-python",
   "name": "python",
   "nbconvert_exporter": "python",
   "pygments_lexer": "ipython3",
   "version": "3.7.6"
  }
 },
 "nbformat": 4,
 "nbformat_minor": 4
}
