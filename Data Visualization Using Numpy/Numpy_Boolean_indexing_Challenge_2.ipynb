{
 "cells": [
  {
   "cell_type": "markdown",
   "metadata": {},
   "source": [
    "Our calculations in the previous screen show that **Laguardia is the most common airport for dropoffs in our data set**.\n",
    "\n",
    "Our second and final challenge involves **removing potentially bad data from our data set, and then calculating some descriptive statistics on the remaining \"clean\" data**."
   ]
  },
  {
   "cell_type": "code",
   "execution_count": 1,
   "metadata": {},
   "outputs": [
    {
     "name": "stdout",
     "output_type": "stream",
     "text": [
      "(89560, 15)\n"
     ]
    }
   ],
   "source": [
    "import numpy as np\n",
    "\n",
    "taxi = np.genfromtxt(\"nyc_taxis.csv\", delimiter  = ',',  skip_header = 1)\n",
    "\n",
    "print(taxi.shape)"
   ]
  },
  {
   "cell_type": "markdown",
   "metadata": {},
   "source": [
    ">* We'll start by using boolean indexing to remove any rows that have an average speed for the trip greater than 100 mph (160 kph) which should remove the questionable data we have worked with over the past two missions. \n",
    "\n",
    ">* Then, we'll use array methods to calculate the mean for specific columns of the remaining data.\n",
    "\n",
    ">* The columns we're interested in are:\n",
    "\n",
    "* **trip_distance, at column index 7**\n",
    "\n",
    "* **trip_length, at column index 8**\n",
    "\n",
    "* **total_amount, at column index 13**\n"
   ]
  },
  {
   "cell_type": "markdown",
   "metadata": {},
   "source": [
    "#### Using boolean indexing to remove any rows that have an average speed for the trip greater than 100 mph (160 kph)\n",
    "\n",
    "\n",
    "**Steps:**\n",
    "\n",
    "* Create a new ndarray, cleaned_taxi, containing only rows for which the values of trip_mph are less than 100.\n",
    "\n",
    "* Calculate the mean of the trip_distance column of cleaned_taxi. Assign the result to mean_distance.\n",
    "\n",
    "* Calculate the mean of the trip_length column of cleaned_taxi. Assign the result to mean_length.\n",
    "\n",
    "* Calculate the mean of the total_amount column of cleaned_taxi. Assign the result to mean_total_amount.\n"
   ]
  },
  {
   "cell_type": "code",
   "execution_count": 35,
   "metadata": {},
   "outputs": [
    {
     "name": "stdout",
     "output_type": "stream",
     "text": [
      "(89560,)\n",
      "\n",
      "\n",
      "(89410, 15)\n",
      "\n",
      "\n",
      "mean_distance: 12.666396599932893\n",
      "\n",
      "\n",
      "mean_length: 2239.503657309026\n",
      "\n",
      "\n",
      "mean_total_amount: 48.98131853260262\n",
      "\n",
      "\n"
     ]
    }
   ],
   "source": [
    "## Using boolean indexing to remove any rows that have an average speed for the trip greater than 100 mph (160 kph) \n",
    "\n",
    "## trip speed in mph\n",
    "trip_mph = taxi[:, 7] / (taxi[:, 8] / 3600)\n",
    "print(trip_mph.shape)\n",
    "print(\"\\n\")\n",
    "## creating a new ndarray - cleaned_taxi\n",
    "cleaned_taxi = taxi[trip_mph < 100]\n",
    "print(cleaned_taxi.shape)\n",
    "print(\"\\n\")\n",
    "\n",
    "## Calculate the mean of the trip_distance column of cleaned_taxi. \n",
    "mean_distance = cleaned_taxi[:, 7].mean()\n",
    "print(\"mean_distance: \" + str(mean_distance))\n",
    "print(\"\\n\")\n",
    "## Calculate the mean of the trip_length column of cleaned_taxi. \n",
    "mean_length = cleaned_taxi[:, 8].mean()\n",
    "print(\"mean_length: \" + str(mean_length))\n",
    "print(\"\\n\")\n",
    "## Calculate the mean of the total_amount column of cleaned_taxi. \n",
    "mean_total_amount = cleaned_taxi[:, 13].mean()\n",
    "print(\"mean_total_amount: \" + str(mean_total_amount))\n",
    "print(\"\\n\")"
   ]
  }
 ],
 "metadata": {
  "kernelspec": {
   "display_name": "Python 3",
   "language": "python",
   "name": "python3"
  },
  "language_info": {
   "codemirror_mode": {
    "name": "ipython",
    "version": 3
   },
   "file_extension": ".py",
   "mimetype": "text/x-python",
   "name": "python",
   "nbconvert_exporter": "python",
   "pygments_lexer": "ipython3",
   "version": "3.7.6"
  }
 },
 "nbformat": 4,
 "nbformat_minor": 4
}
