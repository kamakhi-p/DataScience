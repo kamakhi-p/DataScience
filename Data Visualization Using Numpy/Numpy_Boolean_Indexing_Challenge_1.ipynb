{
 "cells": [
  {
   "cell_type": "markdown",
   "metadata": {},
   "source": [
    ">**In this challenge, we want to figure out which airport is the most popular destination in our data set.**\n",
    "\n",
    ">**To do that, we'll use boolean indexing to create three filtered arrays and then look at how many rows are in each array.**"
   ]
  },
  {
   "cell_type": "markdown",
   "metadata": {},
   "source": [
    "### To complete this task, we'll need to check if the dropoff_location_code column (column index 6) is equal to one of the following values:\n",
    "\n",
    ">2: JFK Airport\n",
    "\n",
    ">3: LaGuardia Airport\n",
    "\n",
    ">5: Newark Airport."
   ]
  },
  {
   "cell_type": "markdown",
   "metadata": {},
   "source": [
    "**Steps:**\n",
    "    \n",
    "• Using the original taxi ndarray, calculate how many trips had JFK Airport as their destination:\n",
    "\n",
    "        • Use boolean indexing to select only the rows where the dropoff_location_code column (column index 6) has a value that corresponds to JFK. Assign the result to jfk.\n",
    "\n",
    "        • Calculate how many rows are in the new jfk array and assign the result to jfk_count.\n",
    "\n",
    "• Calculate how many trips from taxi had Laguardia Airport as their destination:\n",
    "\n",
    "        • Use boolean indexing to select only the rows where the dropoff_location_code column (column index 6) has a value that corresponds to Laguardia. Assign the result to laguardia.\n",
    "\n",
    "        • Calculate how many rows are in the new laguardia array. Assign the result to laguardia_count.\n",
    "\n",
    "• Calculate how many trips from taxi had Newark Airport as their destination:\n",
    "\n",
    "        • Select only the rows where the dropoff_location_code column has a value that corresponds to Newark, and assign the result to newark.\n",
    "\n",
    "        • Calculate how many rows are in the new newark array and assign the result to newark_count.\n",
    "        \n",
    "\n",
    "• After you have run your code, inspect the values for jfk_count, laguardia_count, and newark_count and see which airport has the most dropoffs.\n"
   ]
  },
  {
   "cell_type": "code",
   "execution_count": 1,
   "metadata": {},
   "outputs": [
    {
     "name": "stdout",
     "output_type": "stream",
     "text": [
      "(89560, 15)\n"
     ]
    }
   ],
   "source": [
    "import numpy as np\n",
    "\n",
    "taxi = np.genfromtxt(\"nyc_taxis.csv\", delimiter  = ',',  skip_header = 1)\n",
    "\n",
    "print(taxi.shape)"
   ]
  },
  {
   "cell_type": "code",
   "execution_count": 2,
   "metadata": {},
   "outputs": [
    {
     "name": "stdout",
     "output_type": "stream",
     "text": [
      "11832\n"
     ]
    }
   ],
   "source": [
    "## Calculating the number of JFK trips\n",
    "\n",
    "jfk = taxi[taxi[:, 6] == 2, 6]\n",
    "\n",
    "jfk_count = jfk.shape[0]\n",
    "\n",
    "print(jfk_count)"
   ]
  },
  {
   "cell_type": "code",
   "execution_count": 3,
   "metadata": {},
   "outputs": [
    {
     "name": "stdout",
     "output_type": "stream",
     "text": [
      "16602\n"
     ]
    }
   ],
   "source": [
    "## Calculating the number of Laguardia trips\n",
    "\n",
    "laguardia = taxi[taxi[:, 6] == 3, 6]\n",
    "\n",
    "laguardia_count = laguardia.shape[0]\n",
    "\n",
    "print(laguardia_count)"
   ]
  },
  {
   "cell_type": "code",
   "execution_count": 4,
   "metadata": {},
   "outputs": [
    {
     "name": "stdout",
     "output_type": "stream",
     "text": [
      "63\n"
     ]
    }
   ],
   "source": [
    "## Calculating the number of Newark trips\n",
    "\n",
    "newark = taxi[taxi[:, 6] == 5, 6]\n",
    "\n",
    "newark_count = newark.shape[0]\n",
    "\n",
    "print(newark_count)"
   ]
  },
  {
   "cell_type": "markdown",
   "metadata": {},
   "source": [
    "#### So, below we have the number of drop-offs to each airport:"
   ]
  },
  {
   "cell_type": "code",
   "execution_count": 5,
   "metadata": {},
   "outputs": [
    {
     "name": "stdout",
     "output_type": "stream",
     "text": [
      "JFK Airport has in total of :11832\n",
      "\n",
      "\n",
      "Laguardia Airport has in total of :16602\n",
      "\n",
      "\n",
      "Newark Airport has in total of :63\n"
     ]
    }
   ],
   "source": [
    "print(\"JFK Airport has in total of :\" + str(jfk_count))\n",
    "print(\"\\n\")\n",
    "print(\"Laguardia Airport has in total of :\" + str(laguardia_count))\n",
    "print(\"\\n\")\n",
    "print(\"Newark Airport has in total of :\" + str(newark_count))"
   ]
  },
  {
   "cell_type": "code",
   "execution_count": null,
   "metadata": {},
   "outputs": [],
   "source": []
  },
  {
   "cell_type": "code",
   "execution_count": null,
   "metadata": {},
   "outputs": [],
   "source": []
  }
 ],
 "metadata": {
  "kernelspec": {
   "display_name": "Python 3",
   "language": "python",
   "name": "python3"
  },
  "language_info": {
   "codemirror_mode": {
    "name": "ipython",
    "version": 3
   },
   "file_extension": ".py",
   "mimetype": "text/x-python",
   "name": "python",
   "nbconvert_exporter": "python",
   "pygments_lexer": "ipython3",
   "version": "3.7.6"
  }
 },
 "nbformat": 4,
 "nbformat_minor": 4
}
